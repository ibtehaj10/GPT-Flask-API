{
 "cells": [
  {
   "cell_type": "code",
   "execution_count": 8,
   "metadata": {},
   "outputs": [],
   "source": [
    "a = {\n",
    "        \"content\": \"Certainly! Here is the summary of the information you have provided:\\n\\nName: Marry Jane\\nHusband's Name: Johny Liver\\nCity and State: NYC\\nReason for Divorce: Husband's alcoholism and lack of employment\\nDate of Marriage: April 5, 2023\\n\\nBased on this information, it is recommended to proceed with a no-fault divorce, citing irreconcilable differences.\\n It would be important to gather relevant documents, such as the marriage certificate, financial records, and any evidence related to your husband's alcoholism and unemployment. These documents will be useful when working with a divorce attorney to initiate the legal process,\\n negotiate property division, child custody (if applicable), and seek an appropriate resolution for spousal support.\\n\\nPlease let me know if you need any further clarification or assistance.\",\n",
    "        \"role\": \"assistant\"\n",
    "    }"
   ]
  },
  {
   "cell_type": "code",
   "execution_count": 9,
   "metadata": {},
   "outputs": [
    {
     "name": "stdout",
     "output_type": "stream",
     "text": [
      "Certainly! Here is the summary of the information you have provided:\n",
      "\n",
      "Name: Marry Jane\n",
      "Husband's Name: Johny Liver\n",
      "City and State: NYC\n",
      "Reason for Divorce: Husband's alcoholism and lack of employment\n",
      "Date of Marriage: April 5, 2023\n",
      "\n",
      "Based on this information, it is recommended to proceed with a no-fault divorce, citing irreconcilable differences.\n",
      " It would be important to gather relevant documents, such as the marriage certificate, financial records, and any evidence related to your husband's alcoholism and unemployment. These documents will be useful when working with a divorce attorney to initiate the legal process,\n",
      " negotiate property division, child custody (if applicable), and seek an appropriate resolution for spousal support.\n",
      "\n",
      "Please let me know if you need any further clarification or assistance.\n"
     ]
    }
   ],
   "source": [
    "print(a[\"content\"])"
   ]
  },
  {
   "cell_type": "code",
   "execution_count": null,
   "metadata": {},
   "outputs": [],
   "source": []
  }
 ],
 "metadata": {
  "kernelspec": {
   "display_name": "main",
   "language": "python",
   "name": "python3"
  },
  "language_info": {
   "codemirror_mode": {
    "name": "ipython",
    "version": 3
   },
   "file_extension": ".py",
   "mimetype": "text/x-python",
   "name": "python",
   "nbconvert_exporter": "python",
   "pygments_lexer": "ipython3",
   "version": "3.10.9"
  },
  "orig_nbformat": 4
 },
 "nbformat": 4,
 "nbformat_minor": 2
}
